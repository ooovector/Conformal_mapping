{
 "cells": [
  {
   "cell_type": "code",
   "execution_count": 5,
   "metadata": {},
   "outputs": [
    {
     "name": "stdout",
     "output_type": "stream",
     "text": [
      "Shape of matrix= 1.0\n",
      "[-1.  -0.6  0.6  1. ] [-1.0, -0.6] [-0.6, 0.6]\n",
      "Phi=  39.06631716226925\n",
      "Q=  24.558121841834225\n",
      "C=  6.540022988104872e-11\n"
     ]
    },
    {
     "data": {
      "text/plain": [
       "(39.06631716226925, 24.558121841834225, 6.540022988104872e-11)"
      ]
     },
     "execution_count": 5,
     "metadata": {},
     "output_type": "execute_result"
    }
   ],
   "source": [
    "import conformal_mapping\n",
    "import imp\n",
    "from scipy.constants import epsilon_0\n",
    "imp.reload(conformal_mapping)\n",
    "result=conformal_mapping.ConformalMapping([-1, -0.6, 0.6, 1])\n",
    "result.cl()"
   ]
  },
  {
   "cell_type": "code",
   "execution_count": 3,
   "metadata": {},
   "outputs": [
    {
     "name": "stdout",
     "output_type": "stream",
     "text": [
      "0 1.9953027776647292 3.5015076058315047 1.9953027776647292\n",
      "1.981094452216843e-10\n",
      "should be 1.98e-10\n"
     ]
    }
   ],
   "source": [
    "points = [-1, -0.6, 0.6, 1]\n",
    "zA = 0\n",
    "zB = conformal_mapping.gauss_chebyshev([], [0.6, 1], [-1, -0.6])\n",
    "zC = conformal_mapping.gauss_chebyshev([], [-1, 1], [-0.6, 0.6])\n",
    "zD = conformal_mapping.gauss_chebyshev([], [-1, -0.6], [0.6, 1])\n",
    "print(zA, zB, zC, zD)\n",
    "C = abs(zC/zB)\n",
    "print (C*12.75*epsilon_0 )\n",
    "print ('should be 1.98e-10')"
   ]
  },
  {
   "cell_type": "code",
   "execution_count": 4,
   "metadata": {},
   "outputs": [],
   "source": [
    "from matplotlib import pyplot as plt\n",
    "%matplotlib qt"
   ]
  },
  {
   "cell_type": "code",
   "execution_count": 7,
   "metadata": {},
   "outputs": [
    {
     "data": {
      "text/plain": [
       "[array([1, 2, 3, 4, 5, 6, 7, 8]),\n",
       " array([3, 4, 5, 6, 7, 8, 1, 2]),\n",
       " array([5, 6, 7, 8, 1, 2, 3, 4])]"
      ]
     },
     "execution_count": 7,
     "metadata": {},
     "output_type": "execute_result"
    }
   ],
   "source": [
    "conformal_mapping.function_for_points([1,2,3,4,5,6,7,8])"
   ]
  },
  {
   "cell_type": "code",
   "execution_count": 8,
   "metadata": {},
   "outputs": [
    {
     "data": {
      "text/plain": [
       "(array([3, 5]), array([1, 2, 4, 6, 7, 8]))"
      ]
     },
     "execution_count": 8,
     "metadata": {},
     "output_type": "execute_result"
    }
   ],
   "source": [
    "conformal_mapping.create_numerator_and_denumerator_points([1,2,3,4,5,6,7,8])"
   ]
  },
  {
   "cell_type": "code",
   "execution_count": null,
   "metadata": {},
   "outputs": [],
   "source": []
  }
 ],
 "metadata": {
  "kernelspec": {
   "display_name": "Python 3",
   "language": "python",
   "name": "python3"
  },
  "language_info": {
   "codemirror_mode": {
    "name": "ipython",
    "version": 3
   },
   "file_extension": ".py",
   "mimetype": "text/x-python",
   "name": "python",
   "nbconvert_exporter": "python",
   "pygments_lexer": "ipython3",
   "version": "3.6.10"
  }
 },
 "nbformat": 4,
 "nbformat_minor": 2
}
